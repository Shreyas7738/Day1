{
  "nbformat": 4,
  "nbformat_minor": 0,
  "metadata": {
    "colab": {
      "provenance": []
    },
    "kernelspec": {
      "name": "python3",
      "display_name": "Python 3"
    },
    "language_info": {
      "name": "python"
    }
  },
  "cells": [
    {
      "cell_type": "code",
      "execution_count": null,
      "metadata": {
        "colab": {
          "base_uri": "https://localhost:8080/"
        },
        "id": "I1d8uQJSDUld",
        "outputId": "6f947825-eaaf-47ad-e4d1-6cb5f5b557d1"
      },
      "outputs": [
        {
          "output_type": "stream",
          "name": "stdout",
          "text": [
            "Enter the number of rows: 5\n",
            "    *\n",
            "   ***\n",
            "  *****\n",
            " *******\n",
            "*********\n"
          ]
        }
      ],
      "source": [
        "def pyramid(rows):\n",
        "    for i in range(1, rows + 1):\n",
        "        print(\" \" * (rows - i) + \"*\" * (2 * i - 1))\n",
        "\n",
        "# Set the number of rows for the pyramid\n",
        "rows = int(input(\"Enter the number of rows: \"))\n",
        "pyramid(rows)\n",
        "\n"
      ]
    }
  ]
}